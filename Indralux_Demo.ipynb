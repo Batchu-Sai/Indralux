# Indralux Demo Notebook

This notebook demonstrates how to run Indralux manually on an example image.

```python
from processor import process_with_breaks
from metrics import add_morphological_metrics, add_extended_metrics, add_ve_snr
from overlay import draw_colored_overlay_with_labels
from plotting import plot_spatial_disruption_map
import cv2
import pandas as pd

img_path = "example_image.tif"
column_labels = ["Control", "5'", "10'", "15'", "30'", "60'", "120'"]

df, seg_labels, img_rgb = process_with_breaks(img_path, n_columns=7, column_labels=column_labels)
morph_df = add_morphological_metrics(df, seg_labels)
df = pd.merge(df, morph_df, on="Cell_ID")

ext_df = add_extended_metrics(df, seg_labels)
df = pd.merge(df, ext_df, on="Cell_ID")

ve_img = cv2.cvtColor(cv2.imread(img_path), cv2.COLOR_BGR2RGB)[:, :, 1]
df = add_ve_snr(df, seg_labels, ve_img)

df.to_csv("demo_metrics.csv", index=False)
overlay = draw_colored_overlay_with_labels(img_rgb, seg_labels, df)
cv2.imwrite("demo_overlay.png", cv2.cvtColor(overlay, cv2.COLOR_RGB2BGR))

plot_spatial_disruption_map(df, "demo_disruption_map.png")
```
